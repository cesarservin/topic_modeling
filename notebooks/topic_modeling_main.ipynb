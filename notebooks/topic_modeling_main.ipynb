{
 "cells": [
  {
   "cell_type": "markdown",
   "id": "e700e68b3e0fbe08",
   "metadata": {
    "collapsed": false
   },
   "source": [
    "# 🛣️ Developing topic models from product text\n",
    "In this notebook, I will find the underlying topics from products\n",
    "\n",
    "I will be leveraging data from `.csv`\n",
    "\n",
    "Data taken from : CPG distributor public site."
   ]
  },
  {
   "cell_type": "code",
   "execution_count": 1,
   "id": "initial_id",
   "metadata": {
    "collapsed": true
   },
   "outputs": [],
   "source": [
    "import pandas as pd\n",
    "import numpy as np\n",
    "from sklearn.feature_extraction.text import CountVectorizer\n",
    "from nltk.corpus import stopwords\n",
    "from sklearn.decomposition import LatentDirichletAllocation as LDA\n",
    "from tmtoolkit.topicmod.evaluate import metric_coherence_gensim\n",
    "import matplotlib.pyplot as plt\n",
    "from sklearn.decomposition import NMF\n",
    "from sklearn.decomposition import TruncatedSVD\n",
    "\n",
    "from data.etl import datafile_path_finder, find_nan, remove_newline_tabs_spaces\n",
    "from model.nlp import top_features_sm, most_prevalent_topic, get_topic_words, topic_words_dist_ranked"
   ]
  },
  {
   "cell_type": "markdown",
   "id": "a7bda65802265c91",
   "metadata": {
    "collapsed": false
   },
   "source": [
    "# 1. Load the data"
   ]
  },
  {
   "cell_type": "code",
   "execution_count": 2,
   "id": "355e211686e7d46a",
   "metadata": {
    "collapsed": false
   },
   "outputs": [],
   "source": [
    "dir_df = datafile_path_finder('products.csv')\n",
    "df = pd.read_csv(dir_df)\n",
    "df = df[['HowTo']]"
   ]
  },
  {
   "cell_type": "markdown",
   "id": "42c6856ed1b400d5",
   "metadata": {
    "collapsed": false
   },
   "source": [
    "# 2. Validate the data"
   ]
  },
  {
   "cell_type": "code",
   "execution_count": 3,
   "id": "b9b6dc20",
   "metadata": {},
   "outputs": [
    {
     "name": "stdout",
     "output_type": "stream",
     "text": [
      "<class 'pandas.core.frame.DataFrame'>\n",
      "RangeIndex: 3743 entries, 0 to 3742\n",
      "Data columns (total 1 columns):\n",
      " #   Column  Non-Null Count  Dtype \n",
      "---  ------  --------------  ----- \n",
      " 0   HowTo   2742 non-null   object\n",
      "dtypes: object(1)\n",
      "memory usage: 29.4+ KB\n"
     ]
    }
   ],
   "source": [
    "df.info()"
   ]
  },
  {
   "cell_type": "code",
   "execution_count": 4,
   "id": "87d0e585",
   "metadata": {},
   "outputs": [
    {
     "data": {
      "text/plain": [
       "HowTo    1001\n",
       "dtype: int64"
      ]
     },
     "execution_count": 4,
     "metadata": {},
     "output_type": "execute_result"
    }
   ],
   "source": [
    "find_nan(df)"
   ]
  },
  {
   "cell_type": "markdown",
   "id": "8fc711fce1a62957",
   "metadata": {
    "collapsed": false
   },
   "source": [
    "# 3. Clean up the data"
   ]
  },
  {
   "cell_type": "code",
   "execution_count": 5,
   "id": "f4575e18d2566b7",
   "metadata": {
    "collapsed": false
   },
   "outputs": [
    {
     "data": {
      "text/plain": [
       "(2742, 1)"
      ]
     },
     "execution_count": 5,
     "metadata": {},
     "output_type": "execute_result"
    }
   ],
   "source": [
    "# Clean up the data\n",
    "df = df.dropna()\n",
    "df.shape"
   ]
  },
  {
   "cell_type": "code",
   "execution_count": 6,
   "id": "5b647c50",
   "metadata": {},
   "outputs": [],
   "source": [
    "# Apply preprocessing function to the 'HowTo' column\n",
    "df['HowTo'] = df['HowTo'].apply(remove_newline_tabs_spaces)"
   ]
  },
  {
   "cell_type": "markdown",
   "id": "32cec9355592d883",
   "metadata": {
    "collapsed": false
   },
   "source": [
    "# 4. Create new features"
   ]
  },
  {
   "cell_type": "markdown",
   "id": "f1b6cb97",
   "metadata": {},
   "source": [
    "BOW - Vectorization Menthod"
   ]
  },
  {
   "cell_type": "code",
   "execution_count": 7,
   "id": "731c458a192e8659",
   "metadata": {
    "collapsed": false
   },
   "outputs": [],
   "source": [
    "# first run in pc install\n",
    "# import nltk\n",
    "# nltk.download('all')\n",
    "\n",
    "stops = set(stopwords.words('english'))\n",
    "#stops.add('xxxx')"
   ]
  },
  {
   "cell_type": "code",
   "execution_count": 8,
   "id": "549c2a16",
   "metadata": {},
   "outputs": [],
   "source": [
    "vec = CountVectorizer(token_pattern= r'\\b[a-zA-Z]{3,}\\b',\n",
    "                      stop_words=list(stops),\n",
    "                      ngram_range= (1,2),\n",
    "                      max_features=1000)"
   ]
  },
  {
   "cell_type": "code",
   "execution_count": 9,
   "id": "2125d643",
   "metadata": {},
   "outputs": [],
   "source": [
    "dtm = vec.fit_transform(df['HowTo'])"
   ]
  },
  {
   "cell_type": "markdown",
   "id": "c52cd45ee4690b6b",
   "metadata": {
    "collapsed": false
   },
   "source": [
    "### Comprable Words Raking"
   ]
  },
  {
   "cell_type": "code",
   "execution_count": 10,
   "id": "2b62822e",
   "metadata": {},
   "outputs": [
    {
     "data": {
      "text/plain": [
       "{'hair': 4914,\n",
       " 'apply': 2111,\n",
       " 'rinse': 1717,\n",
       " 'dry': 1469,\n",
       " 'use': 1256,\n",
       " 'shampoo': 1118,\n",
       " 'minutes': 955,\n",
       " 'scalp': 785,\n",
       " 'damp': 755,\n",
       " 'leave': 725}"
      ]
     },
     "execution_count": 10,
     "metadata": {},
     "output_type": "execute_result"
    }
   ],
   "source": [
    "top_features_sm(dtm, vec, 10)"
   ]
  },
  {
   "cell_type": "markdown",
   "id": "170fbf2f7dc059dc",
   "metadata": {
    "collapsed": false
   },
   "source": [
    "# 6. Modeling"
   ]
  },
  {
   "cell_type": "markdown",
   "id": "c61832e9",
   "metadata": {},
   "source": [
    "## LDA (Latent Dirichlet Allocation)\n",
    "I will be using LDA method developed by David Blei. It is a generative probabilistic model that assumes documents are mixtures of topics, and topics are mixtures of words."
   ]
  },
  {
   "cell_type": "code",
   "execution_count": 11,
   "id": "e813c5f6a7d3fb7f",
   "metadata": {
    "collapsed": false
   },
   "outputs": [],
   "source": [
    "# build init model\n",
    "topics = 30\n",
    "\n",
    "lda = LDA(n_components= topics,\n",
    "          doc_topic_prior = 25/topics,\n",
    "          topic_word_prior = 0.15,\n",
    "          n_jobs = -1,\n",
    "          random_state =123\n",
    "          )\n",
    "\n",
    "doc_topics = lda.fit_transform(dtm)\n"
   ]
  },
  {
   "cell_type": "markdown",
   "id": "4009bc9c",
   "metadata": {},
   "source": [
    "### Inspect Model Output"
   ]
  },
  {
   "cell_type": "code",
   "execution_count": 12,
   "id": "11f80f1623c18c2e",
   "metadata": {
    "collapsed": false
   },
   "outputs": [
    {
     "data": {
      "text/plain": [
       "(2742, 30)"
      ]
     },
     "execution_count": 12,
     "metadata": {},
     "output_type": "execute_result"
    }
   ],
   "source": [
    "# Validate the model\n",
    "\n",
    "# should return the same number of the documents by the number of topics\n",
    "doc_topics.shape"
   ]
  },
  {
   "cell_type": "code",
   "execution_count": 13,
   "id": "b54495f8",
   "metadata": {},
   "outputs": [
    {
     "data": {
      "text/plain": [
       "array([1., 1., 1., ..., 1., 1., 1.])"
      ]
     },
     "execution_count": 13,
     "metadata": {},
     "output_type": "execute_result"
    }
   ],
   "source": [
    "# should return 1 as the sum of the probabilities of the topics for each document (topic-relevance scores are probabalistic)\n",
    "doc_topics.sum(axis=1)"
   ]
  },
  {
   "cell_type": "code",
   "execution_count": 14,
   "id": "d4ac1df1",
   "metadata": {},
   "outputs": [
    {
     "data": {
      "text/plain": [
       "1.4948942377826404"
      ]
     },
     "execution_count": 14,
     "metadata": {},
     "output_type": "execute_result"
    }
   ],
   "source": [
    "# check the mean number of topics per document within a threshold\n",
    "threshold = 0.1\n",
    "dt2 = (doc_topics>threshold).astype(int)\n",
    "dt2.sum(axis=1).mean()"
   ]
  },
  {
   "cell_type": "code",
   "execution_count": 15,
   "id": "4b2e4d70",
   "metadata": {},
   "outputs": [
    {
     "data": {
      "text/plain": [
       "(30, 1000)"
      ]
     },
     "execution_count": 15,
     "metadata": {},
     "output_type": "execute_result"
    }
   ],
   "source": [
    "# define vocabulary and word distribution for each topic\n",
    "vocab = np.array(vec.get_feature_names_out())\n",
    "topic_lda_words = lda.components_\n",
    "topic_lda_words.shape"
   ]
  },
  {
   "cell_type": "code",
   "execution_count": 16,
   "id": "fce147ef",
   "metadata": {},
   "outputs": [
    {
     "data": {
      "text/plain": [
       "array(['leave', 'damp', 'scalp', 'minutes', 'shampoo', 'use', 'dry',\n",
       "       'rinse', 'apply', 'hair'], dtype=object)"
      ]
     },
     "execution_count": 16,
     "metadata": {},
     "output_type": "execute_result"
    }
   ],
   "source": [
    "# top words accross topics\n",
    "vocab[topic_lda_words.sum(axis=0).argsort()[-10:]]"
   ]
  },
  {
   "cell_type": "code",
   "execution_count": 17,
   "id": "579570af",
   "metadata": {},
   "outputs": [
    {
     "data": {
      "text/html": [
       "<div>\n",
       "<style scoped>\n",
       "    .dataframe tbody tr th:only-of-type {\n",
       "        vertical-align: middle;\n",
       "    }\n",
       "\n",
       "    .dataframe tbody tr th {\n",
       "        vertical-align: top;\n",
       "    }\n",
       "\n",
       "    .dataframe thead th {\n",
       "        text-align: right;\n",
       "    }\n",
       "</style>\n",
       "<table border=\"1\" class=\"dataframe\">\n",
       "  <thead>\n",
       "    <tr style=\"text-align: right;\">\n",
       "      <th></th>\n",
       "      <th>HowTo</th>\n",
       "      <th>Most Prevalent Topic</th>\n",
       "    </tr>\n",
       "  </thead>\n",
       "  <tbody>\n",
       "    <tr>\n",
       "      <th>1</th>\n",
       "      <td>Massage It’s a 10 Miracle Coily Hydrating Sham...</td>\n",
       "      <td>4</td>\n",
       "    </tr>\n",
       "    <tr>\n",
       "      <th>2</th>\n",
       "      <td>• For best results use at least twice a week o...</td>\n",
       "      <td>22</td>\n",
       "    </tr>\n",
       "    <tr>\n",
       "      <th>3</th>\n",
       "      <td>1. After treating with Smoothing Mousse or Dam...</td>\n",
       "      <td>26</td>\n",
       "    </tr>\n",
       "    <tr>\n",
       "      <th>4</th>\n",
       "      <td>Apply a generous amount to damp, freshly clean...</td>\n",
       "      <td>19</td>\n",
       "    </tr>\n",
       "    <tr>\n",
       "      <th>5</th>\n",
       "      <td>Cleanse the hair with INtech Pre-treatment Sha...</td>\n",
       "      <td>26</td>\n",
       "    </tr>\n",
       "  </tbody>\n",
       "</table>\n",
       "</div>"
      ],
      "text/plain": [
       "                                               HowTo  Most Prevalent Topic\n",
       "1  Massage It’s a 10 Miracle Coily Hydrating Sham...                     4\n",
       "2  • For best results use at least twice a week o...                    22\n",
       "3  1. After treating with Smoothing Mousse or Dam...                    26\n",
       "4  Apply a generous amount to damp, freshly clean...                    19\n",
       "5  Cleanse the hair with INtech Pre-treatment Sha...                    26"
      ]
     },
     "execution_count": 17,
     "metadata": {},
     "output_type": "execute_result"
    }
   ],
   "source": [
    "df['Most Prevalent Topic'] = most_prevalent_topic(doc_topics)\n",
    "df.head()"
   ]
  },
  {
   "cell_type": "code",
   "execution_count": 18,
   "id": "632a9452",
   "metadata": {},
   "outputs": [
    {
     "name": "stdout",
     "output_type": "stream",
     "text": [
      "Topic 0: dry | dry hair | hair | tip | texture | pro | pro tip | frizz | added | control\n",
      "Topic 1: ends | roots | lengths | mid | volume | mid lengths | lengths ends | root | roots ends | conditioner\n",
      "Topic 2: hair | curls | apply | curl | rinse | cleansing | thoroughly | rinse thoroughly | moisture | shampoo\n",
      "Topic 3: spray | hold | shake | well | shake well | inches | hair | away | hair spray | inches away\n",
      "Topic 4: dry | damp | blow | hair | blow dry | damp hair | styling | apply | hair blow | air\n"
     ]
    }
   ],
   "source": [
    "for topic_index in range(5):\n",
    "    words = get_topic_words(topic_index, topic_lda_words, vocab, topn=10)\n",
    "    print(f\"Topic {topic_index}: {' | '.join(words)}\")\n",
    "    "
   ]
  },
  {
   "cell_type": "code",
   "execution_count": 19,
   "id": "00bc9394",
   "metadata": {},
   "outputs": [
    {
     "name": "stdout",
     "output_type": "stream",
     "text": [
      "Document 0:\n",
      "Most prevalent topic: Topic 4\n",
      "Top words for Topic 4: dry, damp, blow, hair, blow dry, damp hair, styling, apply, hair blow, air\n",
      "\n",
      "Document 1:\n",
      "Most prevalent topic: Topic 22\n",
      "Top words for Topic 22: wet hair, wet, lather, rinse, follow, conditioner, apply wet, lather rinse, hair, hair lather\n",
      "\n",
      "Document 2:\n",
      "Most prevalent topic: Topic 26\n",
      "Top words for Topic 26: hair, dry, sections, brush, using, hair sections, smoothing, fine, medium, remove\n",
      "\n",
      "Document 3:\n",
      "Most prevalent topic: Topic 19\n",
      "Top words for Topic 19: leave, minutes, leave minutes, minutes rinse, rinse, shampoo, treatment, apply, rinse thoroughly, hair leave\n",
      "\n",
      "Document 4:\n",
      "Most prevalent topic: Topic 26\n",
      "Top words for Topic 26: hair, dry, sections, brush, using, hair sections, smoothing, fine, medium, remove\n",
      "\n"
     ]
    }
   ],
   "source": [
    "for doc_idx, topic_idx in enumerate(df['Most Prevalent Topic'].head()):\n",
    "    print(f\"Document {doc_idx}:\")\n",
    "    print(f\"Most prevalent topic: Topic {topic_idx}\")\n",
    "    \n",
    "    # Get the top words for the most prevalent topic\n",
    "    top_words = topic_lda_words[topic_idx]\n",
    "    top_words_indices = top_words.argsort()[-10:][::-1]  # Get indices of top 10 words\n",
    "    top_words_list = [vocab[i] for i in top_words_indices]\n",
    "    \n",
    "    print(f\"Top words for Topic {topic_idx}: {', '.join(top_words_list)}\")\n",
    "    print()"
   ]
  },
  {
   "cell_type": "code",
   "execution_count": 20,
   "id": "f38b9178",
   "metadata": {},
   "outputs": [
    {
     "data": {
      "text/html": [
       "<div>\n",
       "<style scoped>\n",
       "    .dataframe tbody tr th:only-of-type {\n",
       "        vertical-align: middle;\n",
       "    }\n",
       "\n",
       "    .dataframe tbody tr th {\n",
       "        vertical-align: top;\n",
       "    }\n",
       "\n",
       "    .dataframe thead th {\n",
       "        text-align: right;\n",
       "    }\n",
       "</style>\n",
       "<table border=\"1\" class=\"dataframe\">\n",
       "  <thead>\n",
       "    <tr style=\"text-align: right;\">\n",
       "      <th></th>\n",
       "      <th>HowTo</th>\n",
       "      <th>Most Prevalent Topic</th>\n",
       "      <th>Top Words</th>\n",
       "    </tr>\n",
       "  </thead>\n",
       "  <tbody>\n",
       "    <tr>\n",
       "      <th>1</th>\n",
       "      <td>Massage It’s a 10 Miracle Coily Hydrating Sham...</td>\n",
       "      <td>4</td>\n",
       "      <td>dry, damp, blow, hair, blow dry, damp hair, st...</td>\n",
       "    </tr>\n",
       "    <tr>\n",
       "      <th>2</th>\n",
       "      <td>• For best results use at least twice a week o...</td>\n",
       "      <td>22</td>\n",
       "      <td>wet hair, wet, lather, rinse, follow, conditio...</td>\n",
       "    </tr>\n",
       "    <tr>\n",
       "      <th>3</th>\n",
       "      <td>1. After treating with Smoothing Mousse or Dam...</td>\n",
       "      <td>26</td>\n",
       "      <td>hair, dry, sections, brush, using, hair sectio...</td>\n",
       "    </tr>\n",
       "    <tr>\n",
       "      <th>4</th>\n",
       "      <td>Apply a generous amount to damp, freshly clean...</td>\n",
       "      <td>19</td>\n",
       "      <td>leave, minutes, leave minutes, minutes rinse, ...</td>\n",
       "    </tr>\n",
       "    <tr>\n",
       "      <th>5</th>\n",
       "      <td>Cleanse the hair with INtech Pre-treatment Sha...</td>\n",
       "      <td>26</td>\n",
       "      <td>hair, dry, sections, brush, using, hair sectio...</td>\n",
       "    </tr>\n",
       "  </tbody>\n",
       "</table>\n",
       "</div>"
      ],
      "text/plain": [
       "                                               HowTo  Most Prevalent Topic  \\\n",
       "1  Massage It’s a 10 Miracle Coily Hydrating Sham...                     4   \n",
       "2  • For best results use at least twice a week o...                    22   \n",
       "3  1. After treating with Smoothing Mousse or Dam...                    26   \n",
       "4  Apply a generous amount to damp, freshly clean...                    19   \n",
       "5  Cleanse the hair with INtech Pre-treatment Sha...                    26   \n",
       "\n",
       "                                           Top Words  \n",
       "1  dry, damp, blow, hair, blow dry, damp hair, st...  \n",
       "2  wet hair, wet, lather, rinse, follow, conditio...  \n",
       "3  hair, dry, sections, brush, using, hair sectio...  \n",
       "4  leave, minutes, leave minutes, minutes rinse, ...  \n",
       "5  hair, dry, sections, brush, using, hair sectio...  "
      ]
     },
     "execution_count": 20,
     "metadata": {},
     "output_type": "execute_result"
    }
   ],
   "source": [
    "df['Top Words'] = df['Most Prevalent Topic'].apply(lambda topic_idx: ', '.join(topic_words_dist_ranked(topic_idx, topic_lda_words, vocab)))\n",
    "df.head()"
   ]
  },
  {
   "cell_type": "markdown",
   "id": "a2180b0cd2effd5c",
   "metadata": {
    "collapsed": false
   },
   "source": [
    "###  LDA Tuning"
   ]
  },
  {
   "cell_type": "code",
   "execution_count": 21,
   "id": "b7c5b9f5c2c3b4d3",
   "metadata": {
    "collapsed": false
   },
   "outputs": [
    {
     "name": "stdout",
     "output_type": "stream",
     "text": [
      "Fitting 30 topics\n",
      "Fitting 40 topics\n",
      "Fitting 50 topics\n",
      "Fitting 60 topics\n",
      "Fitting 70 topics\n",
      "Fitting 80 topics\n",
      "Fitting 90 topics\n",
      "Fitting 100 topics\n",
      "Fitting 110 topics\n",
      "Fitting 120 topics\n",
      "Fitting 130 topics\n",
      "Fitting 140 topics\n",
      "Fitting 150 topics\n"
     ]
    },
    {
     "data": {
      "text/html": [
       "<div>\n",
       "<style scoped>\n",
       "    .dataframe tbody tr th:only-of-type {\n",
       "        vertical-align: middle;\n",
       "    }\n",
       "\n",
       "    .dataframe tbody tr th {\n",
       "        vertical-align: top;\n",
       "    }\n",
       "\n",
       "    .dataframe thead th {\n",
       "        text-align: right;\n",
       "    }\n",
       "</style>\n",
       "<table border=\"1\" class=\"dataframe\">\n",
       "  <thead>\n",
       "    <tr style=\"text-align: right;\">\n",
       "      <th></th>\n",
       "      <th>topics</th>\n",
       "      <th>perplexity</th>\n",
       "      <th>mean_umass</th>\n",
       "    </tr>\n",
       "  </thead>\n",
       "  <tbody>\n",
       "    <tr>\n",
       "      <th>0</th>\n",
       "      <td>30</td>\n",
       "      <td>395.833649</td>\n",
       "      <td>-1.505098</td>\n",
       "    </tr>\n",
       "    <tr>\n",
       "      <th>1</th>\n",
       "      <td>40</td>\n",
       "      <td>403.639067</td>\n",
       "      <td>-1.618340</td>\n",
       "    </tr>\n",
       "    <tr>\n",
       "      <th>2</th>\n",
       "      <td>50</td>\n",
       "      <td>438.852673</td>\n",
       "      <td>-1.944270</td>\n",
       "    </tr>\n",
       "    <tr>\n",
       "      <th>3</th>\n",
       "      <td>60</td>\n",
       "      <td>446.189362</td>\n",
       "      <td>-1.836636</td>\n",
       "    </tr>\n",
       "    <tr>\n",
       "      <th>4</th>\n",
       "      <td>70</td>\n",
       "      <td>456.397750</td>\n",
       "      <td>-2.457189</td>\n",
       "    </tr>\n",
       "    <tr>\n",
       "      <th>5</th>\n",
       "      <td>80</td>\n",
       "      <td>464.893215</td>\n",
       "      <td>-2.229196</td>\n",
       "    </tr>\n",
       "    <tr>\n",
       "      <th>6</th>\n",
       "      <td>90</td>\n",
       "      <td>478.256444</td>\n",
       "      <td>-2.420176</td>\n",
       "    </tr>\n",
       "    <tr>\n",
       "      <th>7</th>\n",
       "      <td>100</td>\n",
       "      <td>506.356631</td>\n",
       "      <td>-2.498438</td>\n",
       "    </tr>\n",
       "    <tr>\n",
       "      <th>8</th>\n",
       "      <td>110</td>\n",
       "      <td>508.031599</td>\n",
       "      <td>-2.430033</td>\n",
       "    </tr>\n",
       "    <tr>\n",
       "      <th>9</th>\n",
       "      <td>120</td>\n",
       "      <td>512.943687</td>\n",
       "      <td>-2.483714</td>\n",
       "    </tr>\n",
       "    <tr>\n",
       "      <th>10</th>\n",
       "      <td>130</td>\n",
       "      <td>525.516708</td>\n",
       "      <td>-2.894816</td>\n",
       "    </tr>\n",
       "    <tr>\n",
       "      <th>11</th>\n",
       "      <td>140</td>\n",
       "      <td>530.656113</td>\n",
       "      <td>-2.829091</td>\n",
       "    </tr>\n",
       "    <tr>\n",
       "      <th>12</th>\n",
       "      <td>150</td>\n",
       "      <td>548.331926</td>\n",
       "      <td>-2.694644</td>\n",
       "    </tr>\n",
       "  </tbody>\n",
       "</table>\n",
       "</div>"
      ],
      "text/plain": [
       "    topics  perplexity  mean_umass\n",
       "0       30  395.833649   -1.505098\n",
       "1       40  403.639067   -1.618340\n",
       "2       50  438.852673   -1.944270\n",
       "3       60  446.189362   -1.836636\n",
       "4       70  456.397750   -2.457189\n",
       "5       80  464.893215   -2.229196\n",
       "6       90  478.256444   -2.420176\n",
       "7      100  506.356631   -2.498438\n",
       "8      110  508.031599   -2.430033\n",
       "9      120  512.943687   -2.483714\n",
       "10     130  525.516708   -2.894816\n",
       "11     140  530.656113   -2.829091\n",
       "12     150  548.331926   -2.694644"
      ]
     },
     "execution_count": 21,
     "metadata": {},
     "output_type": "execute_result"
    }
   ],
   "source": [
    "records = []\n",
    "for top in range(30,151,10):\n",
    "    print(f\"Fitting {top} topics\")\n",
    "    record = {'topics': top}\n",
    "    \n",
    "    lda = LDA(n_components= top,\n",
    "          doc_topic_prior = 25/top,\n",
    "          topic_word_prior = 0.15,\n",
    "          n_jobs = -1,\n",
    "          random_state =123\n",
    "          )\n",
    "    \n",
    "    lda.fit(dtm)\n",
    "    \n",
    "    record['perplexity'] = lda.perplexity(dtm)\n",
    "    umass = metric_coherence_gensim(measure= \"u_mass\",\n",
    "                                    top_n=5,\n",
    "                                    topic_word_distrib= lda.components_,\n",
    "                                    dtm= dtm.todense(),\n",
    "                                    vocab= vocab,\n",
    "                                    texts= None                                    \n",
    "                                    )\n",
    "    record['mean_umass'] = np.mean(umass)\n",
    "    records.append(record)\n",
    "    \n",
    "diagnostics = pd.DataFrame(records)\n",
    "diagnostics"
   ]
  },
  {
   "cell_type": "markdown",
   "id": "3df18e82a3b44772",
   "metadata": {
    "collapsed": false
   },
   "source": [
    "### Plot performance metrics"
   ]
  },
  {
   "cell_type": "code",
   "execution_count": 22,
   "id": "790e37bc19d993fc",
   "metadata": {
    "collapsed": false
   },
   "outputs": [
    {
     "data": {
      "text/plain": [
       "[<matplotlib.lines.Line2D at 0x2cf9f2765d0>]"
      ]
     },
     "execution_count": 22,
     "metadata": {},
     "output_type": "execute_result"
    },
    {
     "data": {
      "image/png": "[encoded data removed]",
      "text/plain": [
       "<Figure size 640x480 with 2 Axes>"
      ]
     },
     "metadata": {},
     "output_type": "display_data"
    }
   ],
   "source": [
    "fig, ax = plt.subplots()\n",
    "ax2 = ax.twinx()\n",
    "ax.plot(diagnostics['topics'], diagnostics['perplexity'])\n",
    "ax2.plot(diagnostics['topics'], diagnostics['mean_umass'], color = 'red', linestyle='--')"
   ]
  },
  {
   "cell_type": "markdown",
   "id": "e8ccaa9f",
   "metadata": {},
   "source": [
    "Umass - higher better (more meaningful topics) based on words co-occur. Meaning 30 Topics are optimal."
   ]
  },
  {
   "cell_type": "markdown",
   "id": "c9b30c54",
   "metadata": {},
   "source": [
    "## NMF (Non-Negative Matrix Factorization)\n",
    "This method decomposes into two non-negative matrices: one representing documents in terms of topics and the other representing topics in terms of words.\n",
    "\n",
    "Lets compare to results from other models such as NMF"
   ]
  },
  {
   "cell_type": "code",
   "execution_count": 23,
   "id": "8741d239",
   "metadata": {},
   "outputs": [
    {
     "data": {
      "text/plain": [
       "(2742, 30)"
      ]
     },
     "execution_count": 23,
     "metadata": {},
     "output_type": "execute_result"
    }
   ],
   "source": [
    "nmf = NMF(n_components= 30, random_state=123)\n",
    "\n",
    "doc_topics_nmf = nmf.fit_transform(dtm)\n",
    "doc_topics_nmf.shape"
   ]
  },
  {
   "cell_type": "markdown",
   "id": "2cc170db",
   "metadata": {},
   "source": [
    "### Inspect Model"
   ]
  },
  {
   "cell_type": "code",
   "execution_count": 24,
   "id": "6f1a8719",
   "metadata": {},
   "outputs": [
    {
     "data": {
      "text/plain": [
       "(30, 1000)"
      ]
     },
     "execution_count": 24,
     "metadata": {},
     "output_type": "execute_result"
    }
   ],
   "source": [
    "# To transform to something that looks like LDA probabilities, or numbers summing to 1 by row\n",
    "H = nmf.components_\n",
    "dt2_h = (H /  H.sum(axis= 1)[:, None])\n",
    "dt2_h.shape"
   ]
  },
  {
   "cell_type": "code",
   "execution_count": 25,
   "id": "7ad5d945",
   "metadata": {},
   "outputs": [
    {
     "data": {
      "text/plain": [
       "array(['desired', 'scalp', 'shampoo', 'minutes', 'dry', 'use', 'color',\n",
       "       'rinse', 'apply', 'hair'], dtype=object)"
      ]
     },
     "execution_count": 25,
     "metadata": {},
     "output_type": "execute_result"
    }
   ],
   "source": [
    "# top words accross topics\n",
    "vocab[dt2_h.sum(axis=0).argsort()[-10:]]"
   ]
  },
  {
   "cell_type": "code",
   "execution_count": 26,
   "id": "e6ec9a31",
   "metadata": {},
   "outputs": [
    {
     "data": {
      "text/html": [
       "<div>\n",
       "<style scoped>\n",
       "    .dataframe tbody tr th:only-of-type {\n",
       "        vertical-align: middle;\n",
       "    }\n",
       "\n",
       "    .dataframe tbody tr th {\n",
       "        vertical-align: top;\n",
       "    }\n",
       "\n",
       "    .dataframe thead th {\n",
       "        text-align: right;\n",
       "    }\n",
       "</style>\n",
       "<table border=\"1\" class=\"dataframe\">\n",
       "  <thead>\n",
       "    <tr style=\"text-align: right;\">\n",
       "      <th></th>\n",
       "      <th>HowTo</th>\n",
       "      <th>Most Prevalent Topic</th>\n",
       "      <th>Top Words</th>\n",
       "      <th>Most Prevalent Topic NMF</th>\n",
       "    </tr>\n",
       "  </thead>\n",
       "  <tbody>\n",
       "    <tr>\n",
       "      <th>1</th>\n",
       "      <td>Massage It’s a 10 Miracle Coily Hydrating Sham...</td>\n",
       "      <td>4</td>\n",
       "      <td>dry, damp, blow, hair, blow dry, damp hair, st...</td>\n",
       "      <td>25</td>\n",
       "    </tr>\n",
       "    <tr>\n",
       "      <th>2</th>\n",
       "      <td>• For best results use at least twice a week o...</td>\n",
       "      <td>22</td>\n",
       "      <td>wet hair, wet, lather, rinse, follow, conditio...</td>\n",
       "      <td>14</td>\n",
       "    </tr>\n",
       "    <tr>\n",
       "      <th>3</th>\n",
       "      <td>1. After treating with Smoothing Mousse or Dam...</td>\n",
       "      <td>26</td>\n",
       "      <td>hair, dry, sections, brush, using, hair sectio...</td>\n",
       "      <td>0</td>\n",
       "    </tr>\n",
       "    <tr>\n",
       "      <th>4</th>\n",
       "      <td>Apply a generous amount to damp, freshly clean...</td>\n",
       "      <td>19</td>\n",
       "      <td>leave, minutes, leave minutes, minutes rinse, ...</td>\n",
       "      <td>19</td>\n",
       "    </tr>\n",
       "    <tr>\n",
       "      <th>5</th>\n",
       "      <td>Cleanse the hair with INtech Pre-treatment Sha...</td>\n",
       "      <td>26</td>\n",
       "      <td>hair, dry, sections, brush, using, hair sectio...</td>\n",
       "      <td>0</td>\n",
       "    </tr>\n",
       "  </tbody>\n",
       "</table>\n",
       "</div>"
      ],
      "text/plain": [
       "                                               HowTo  Most Prevalent Topic  \\\n",
       "1  Massage It’s a 10 Miracle Coily Hydrating Sham...                     4   \n",
       "2  • For best results use at least twice a week o...                    22   \n",
       "3  1. After treating with Smoothing Mousse or Dam...                    26   \n",
       "4  Apply a generous amount to damp, freshly clean...                    19   \n",
       "5  Cleanse the hair with INtech Pre-treatment Sha...                    26   \n",
       "\n",
       "                                           Top Words  Most Prevalent Topic NMF  \n",
       "1  dry, damp, blow, hair, blow dry, damp hair, st...                        25  \n",
       "2  wet hair, wet, lather, rinse, follow, conditio...                        14  \n",
       "3  hair, dry, sections, brush, using, hair sectio...                         0  \n",
       "4  leave, minutes, leave minutes, minutes rinse, ...                        19  \n",
       "5  hair, dry, sections, brush, using, hair sectio...                         0  "
      ]
     },
     "execution_count": 26,
     "metadata": {},
     "output_type": "execute_result"
    }
   ],
   "source": [
    "df['Most Prevalent Topic NMF'] = most_prevalent_topic(doc_topics_nmf)\n",
    "df.head()"
   ]
  },
  {
   "cell_type": "code",
   "execution_count": 27,
   "id": "0ff3a947",
   "metadata": {},
   "outputs": [
    {
     "name": "stdout",
     "output_type": "stream",
     "text": [
      "Document 0:\n",
      "Most prevalent topic: Topic 25\n",
      "Top words for Topic 25: product, contact, eyes, immediately, rinse, keep, skin, contact eyes, wrap, water\n",
      "\n",
      "Document 1:\n",
      "Most prevalent topic: Topic 14\n",
      "Top words for Topic 14: wet, rinse, wet hair, lather, conditioner, massage, apply wet, follow, lather rinse, hair lather\n",
      "\n",
      "Document 2:\n",
      "Most prevalent topic: Topic 0\n",
      "Top words for Topic 0: hair, product, dry hair, gently, natural, root, keratin, types, starting, throughout\n",
      "\n",
      "Document 3:\n",
      "Most prevalent topic: Topic 19\n",
      "Top words for Topic 19: minutes, leave, rinse, minutes rinse, leave minutes, rinse thoroughly, thoroughly, hair leave, shampooing, mask\n",
      "\n",
      "Document 4:\n",
      "Most prevalent topic: Topic 0\n",
      "Top words for Topic 0: hair, product, dry hair, gently, natural, root, keratin, types, starting, throughout\n",
      "\n"
     ]
    }
   ],
   "source": [
    "for doc_idx, topic_idx in enumerate(df['Most Prevalent Topic NMF'].head()):\n",
    "    print(f\"Document {doc_idx}:\")\n",
    "    print(f\"Most prevalent topic: Topic {topic_idx}\")\n",
    "    \n",
    "    # Get the top words for the most prevalent topic\n",
    "    top_words = dt2_h[topic_idx]\n",
    "    top_words_indices = top_words.argsort()[-10:][::-1]  # Get indices of top 10 words\n",
    "    top_words_list = [vocab[i] for i in top_words_indices]\n",
    "    \n",
    "    print(f\"Top words for Topic {topic_idx}: {', '.join(top_words_list)}\")\n",
    "    print()"
   ]
  },
  {
   "cell_type": "markdown",
   "id": "e62fb951",
   "metadata": {},
   "source": [
    "### NMF Tuning"
   ]
  },
  {
   "cell_type": "code",
   "execution_count": 28,
   "id": "7d9a84ad",
   "metadata": {},
   "outputs": [
    {
     "name": "stdout",
     "output_type": "stream",
     "text": [
      "Fitting 30 topics\n",
      "Fitting 40 topics\n",
      "Fitting 50 topics\n",
      "Fitting 60 topics\n",
      "Fitting 70 topics\n",
      "Fitting 80 topics\n",
      "Fitting 90 topics\n",
      "Fitting 100 topics\n",
      "Fitting 110 topics\n",
      "Fitting 120 topics\n",
      "Fitting 130 topics\n",
      "Fitting 140 topics\n",
      "Fitting 150 topics\n"
     ]
    },
    {
     "data": {
      "text/html": [
       "<div>\n",
       "<style scoped>\n",
       "    .dataframe tbody tr th:only-of-type {\n",
       "        vertical-align: middle;\n",
       "    }\n",
       "\n",
       "    .dataframe tbody tr th {\n",
       "        vertical-align: top;\n",
       "    }\n",
       "\n",
       "    .dataframe thead th {\n",
       "        text-align: right;\n",
       "    }\n",
       "</style>\n",
       "<table border=\"1\" class=\"dataframe\">\n",
       "  <thead>\n",
       "    <tr style=\"text-align: right;\">\n",
       "      <th></th>\n",
       "      <th>topics</th>\n",
       "      <th>mean_umass</th>\n",
       "    </tr>\n",
       "  </thead>\n",
       "  <tbody>\n",
       "    <tr>\n",
       "      <th>0</th>\n",
       "      <td>30</td>\n",
       "      <td>-1.681374</td>\n",
       "    </tr>\n",
       "    <tr>\n",
       "      <th>1</th>\n",
       "      <td>40</td>\n",
       "      <td>-1.842774</td>\n",
       "    </tr>\n",
       "    <tr>\n",
       "      <th>2</th>\n",
       "      <td>50</td>\n",
       "      <td>-2.074828</td>\n",
       "    </tr>\n",
       "    <tr>\n",
       "      <th>3</th>\n",
       "      <td>60</td>\n",
       "      <td>-1.932670</td>\n",
       "    </tr>\n",
       "    <tr>\n",
       "      <th>4</th>\n",
       "      <td>70</td>\n",
       "      <td>-2.190556</td>\n",
       "    </tr>\n",
       "    <tr>\n",
       "      <th>5</th>\n",
       "      <td>80</td>\n",
       "      <td>-2.491530</td>\n",
       "    </tr>\n",
       "    <tr>\n",
       "      <th>6</th>\n",
       "      <td>90</td>\n",
       "      <td>-2.414155</td>\n",
       "    </tr>\n",
       "    <tr>\n",
       "      <th>7</th>\n",
       "      <td>100</td>\n",
       "      <td>-2.457580</td>\n",
       "    </tr>\n",
       "    <tr>\n",
       "      <th>8</th>\n",
       "      <td>110</td>\n",
       "      <td>-2.646544</td>\n",
       "    </tr>\n",
       "    <tr>\n",
       "      <th>9</th>\n",
       "      <td>120</td>\n",
       "      <td>-2.586294</td>\n",
       "    </tr>\n",
       "    <tr>\n",
       "      <th>10</th>\n",
       "      <td>130</td>\n",
       "      <td>-2.882893</td>\n",
       "    </tr>\n",
       "    <tr>\n",
       "      <th>11</th>\n",
       "      <td>140</td>\n",
       "      <td>-2.688347</td>\n",
       "    </tr>\n",
       "    <tr>\n",
       "      <th>12</th>\n",
       "      <td>150</td>\n",
       "      <td>-2.703625</td>\n",
       "    </tr>\n",
       "  </tbody>\n",
       "</table>\n",
       "</div>"
      ],
      "text/plain": [
       "    topics  mean_umass\n",
       "0       30   -1.681374\n",
       "1       40   -1.842774\n",
       "2       50   -2.074828\n",
       "3       60   -1.932670\n",
       "4       70   -2.190556\n",
       "5       80   -2.491530\n",
       "6       90   -2.414155\n",
       "7      100   -2.457580\n",
       "8      110   -2.646544\n",
       "9      120   -2.586294\n",
       "10     130   -2.882893\n",
       "11     140   -2.688347\n",
       "12     150   -2.703625"
      ]
     },
     "execution_count": 28,
     "metadata": {},
     "output_type": "execute_result"
    }
   ],
   "source": [
    "records = []\n",
    "for top in range(30,151,10):\n",
    "    print(f\"Fitting {top} topics\")\n",
    "    record = {'topics': top}\n",
    "    lda = NMF(n_components= top, random_state=123, max_iter=1000,)\n",
    "    \n",
    "    lda.fit(dtm)\n",
    "    \n",
    "    #record['perplexity'] = lda.perplexity(dtm)\n",
    "    umass = metric_coherence_gensim(measure= \"u_mass\",\n",
    "                                    top_n=5,\n",
    "                                    topic_word_distrib= lda.components_,\n",
    "                                    dtm= dtm.todense(),\n",
    "                                    vocab= vocab,\n",
    "                                    texts= None                                    \n",
    "                                    )\n",
    "    record['mean_umass'] = np.mean(umass)\n",
    "    records.append(record)\n",
    "    \n",
    "diagnostics = pd.DataFrame(records)\n",
    "diagnostics"
   ]
  },
  {
   "cell_type": "markdown",
   "id": "13be1c2a",
   "metadata": {},
   "source": [
    "### Plot performance metrics"
   ]
  },
  {
   "cell_type": "code",
   "execution_count": 29,
   "id": "c6e6f18a",
   "metadata": {},
   "outputs": [
    {
     "data": {
      "text/plain": [
       "[<matplotlib.lines.Line2D at 0x2cf9f539be0>]"
      ]
     },
     "execution_count": 29,
     "metadata": {},
     "output_type": "execute_result"
    },
    {
     "data": {
      "image/png": "[encoded data removed]",
      "text/plain": [
       "<Figure size 640x480 with 2 Axes>"
      ]
     },
     "metadata": {},
     "output_type": "display_data"
    }
   ],
   "source": [
    "fig, ax = plt.subplots()\n",
    "ax2 = ax.twinx()\n",
    "ax2.plot(diagnostics['topics'], diagnostics['mean_umass'], color = 'red', linestyle='--')"
   ]
  },
  {
   "cell_type": "markdown",
   "id": "9a3bf9b6",
   "metadata": {},
   "source": [
    "Umass - higher better (more meaningful topics) based on words co-occur. Meaning 30 Topics are optimal."
   ]
  },
  {
   "cell_type": "code",
   "execution_count": 30,
   "id": "d5f93c50",
   "metadata": {},
   "outputs": [
    {
     "data": {
      "text/html": [
       "<div>\n",
       "<style scoped>\n",
       "    .dataframe tbody tr th:only-of-type {\n",
       "        vertical-align: middle;\n",
       "    }\n",
       "\n",
       "    .dataframe tbody tr th {\n",
       "        vertical-align: top;\n",
       "    }\n",
       "\n",
       "    .dataframe thead th {\n",
       "        text-align: right;\n",
       "    }\n",
       "</style>\n",
       "<table border=\"1\" class=\"dataframe\">\n",
       "  <thead>\n",
       "    <tr style=\"text-align: right;\">\n",
       "      <th></th>\n",
       "      <th>HowTo</th>\n",
       "      <th>Most Prevalent Topic</th>\n",
       "      <th>Top Words</th>\n",
       "      <th>Most Prevalent Topic NMF</th>\n",
       "      <th>Top Words NMF</th>\n",
       "    </tr>\n",
       "  </thead>\n",
       "  <tbody>\n",
       "    <tr>\n",
       "      <th>1</th>\n",
       "      <td>Massage It’s a 10 Miracle Coily Hydrating Sham...</td>\n",
       "      <td>4</td>\n",
       "      <td>dry, damp, blow, hair, blow dry, damp hair, st...</td>\n",
       "      <td>25</td>\n",
       "      <td>product, contact, eyes, immediately, rinse, ke...</td>\n",
       "    </tr>\n",
       "    <tr>\n",
       "      <th>2</th>\n",
       "      <td>• For best results use at least twice a week o...</td>\n",
       "      <td>22</td>\n",
       "      <td>wet hair, wet, lather, rinse, follow, conditio...</td>\n",
       "      <td>14</td>\n",
       "      <td>wet, rinse, wet hair, lather, conditioner, mas...</td>\n",
       "    </tr>\n",
       "    <tr>\n",
       "      <th>3</th>\n",
       "      <td>1. After treating with Smoothing Mousse or Dam...</td>\n",
       "      <td>26</td>\n",
       "      <td>hair, dry, sections, brush, using, hair sectio...</td>\n",
       "      <td>0</td>\n",
       "      <td>hair, product, dry hair, gently, natural, root...</td>\n",
       "    </tr>\n",
       "    <tr>\n",
       "      <th>4</th>\n",
       "      <td>Apply a generous amount to damp, freshly clean...</td>\n",
       "      <td>19</td>\n",
       "      <td>leave, minutes, leave minutes, minutes rinse, ...</td>\n",
       "      <td>19</td>\n",
       "      <td>minutes, leave, rinse, minutes rinse, leave mi...</td>\n",
       "    </tr>\n",
       "    <tr>\n",
       "      <th>5</th>\n",
       "      <td>Cleanse the hair with INtech Pre-treatment Sha...</td>\n",
       "      <td>26</td>\n",
       "      <td>hair, dry, sections, brush, using, hair sectio...</td>\n",
       "      <td>0</td>\n",
       "      <td>hair, product, dry hair, gently, natural, root...</td>\n",
       "    </tr>\n",
       "  </tbody>\n",
       "</table>\n",
       "</div>"
      ],
      "text/plain": [
       "                                               HowTo  Most Prevalent Topic  \\\n",
       "1  Massage It’s a 10 Miracle Coily Hydrating Sham...                     4   \n",
       "2  • For best results use at least twice a week o...                    22   \n",
       "3  1. After treating with Smoothing Mousse or Dam...                    26   \n",
       "4  Apply a generous amount to damp, freshly clean...                    19   \n",
       "5  Cleanse the hair with INtech Pre-treatment Sha...                    26   \n",
       "\n",
       "                                           Top Words  \\\n",
       "1  dry, damp, blow, hair, blow dry, damp hair, st...   \n",
       "2  wet hair, wet, lather, rinse, follow, conditio...   \n",
       "3  hair, dry, sections, brush, using, hair sectio...   \n",
       "4  leave, minutes, leave minutes, minutes rinse, ...   \n",
       "5  hair, dry, sections, brush, using, hair sectio...   \n",
       "\n",
       "   Most Prevalent Topic NMF                                      Top Words NMF  \n",
       "1                        25  product, contact, eyes, immediately, rinse, ke...  \n",
       "2                        14  wet, rinse, wet hair, lather, conditioner, mas...  \n",
       "3                         0  hair, product, dry hair, gently, natural, root...  \n",
       "4                        19  minutes, leave, rinse, minutes rinse, leave mi...  \n",
       "5                         0  hair, product, dry hair, gently, natural, root...  "
      ]
     },
     "execution_count": 30,
     "metadata": {},
     "output_type": "execute_result"
    }
   ],
   "source": [
    "# Add top words for the most prevalent topic to DataFrame\n",
    "df['Top Words NMF'] = df['Most Prevalent Topic NMF'].apply(lambda topic_idx: ', '.join(topic_words_dist_ranked(topic_idx, dt2_h, vocab)))\n",
    "df.head()"
   ]
  },
  {
   "cell_type": "markdown",
   "id": "3902b231",
   "metadata": {},
   "source": [
    "## LSA (Latent Semantic Analysis)\n",
    "It is a dimensionality reduction technique that uses Singular Value Decomposition (SVD) to decompose the Document-Term Matrix into a set of latent topics."
   ]
  },
  {
   "cell_type": "code",
   "execution_count": 31,
   "id": "cd7f3b73",
   "metadata": {},
   "outputs": [
    {
     "data": {
      "text/plain": [
       "(2742, 30)"
      ]
     },
     "execution_count": 31,
     "metadata": {},
     "output_type": "execute_result"
    }
   ],
   "source": [
    "lsa = TruncatedSVD(n_components=30)\n",
    "# Fit and transform the TF-IDF matrix\n",
    "doc_topics_lsa = lsa.fit_transform(dtm)\n",
    "doc_topics_lsa.shape"
   ]
  },
  {
   "cell_type": "markdown",
   "id": "b150f310",
   "metadata": {},
   "source": [
    "### Inspect Model"
   ]
  },
  {
   "cell_type": "code",
   "execution_count": 32,
   "id": "99609f4d",
   "metadata": {},
   "outputs": [
    {
     "data": {
      "text/plain": [
       "(30, 1000)"
      ]
     },
     "execution_count": 32,
     "metadata": {},
     "output_type": "execute_result"
    }
   ],
   "source": [
    "# To transform to something that looks like LDA probabilities, or numbers summing to 1 by row\n",
    "H = lsa.components_\n",
    "H.shape\n",
    "\n",
    "dt3_h = (H /  H.sum(axis= 1)[:, None])\n",
    "dt3_h.shape"
   ]
  },
  {
   "cell_type": "code",
   "execution_count": 33,
   "id": "4e0bb873",
   "metadata": {},
   "outputs": [
    {
     "data": {
      "text/plain": [
       "array(['add drops', 'drops', 'style desired', 'rinse thoroughly',\n",
       "       'thoroughly', 'style', 'shampoo', 'desired', 'damp hair', 'damp'],\n",
       "      dtype=object)"
      ]
     },
     "execution_count": 33,
     "metadata": {},
     "output_type": "execute_result"
    }
   ],
   "source": [
    "# top words accross topics\n",
    "vocab[dt3_h.sum(axis=0).argsort()[-10:]]"
   ]
  },
  {
   "cell_type": "code",
   "execution_count": 34,
   "id": "5c863ad4",
   "metadata": {},
   "outputs": [
    {
     "data": {
      "text/html": [
       "<div>\n",
       "<style scoped>\n",
       "    .dataframe tbody tr th:only-of-type {\n",
       "        vertical-align: middle;\n",
       "    }\n",
       "\n",
       "    .dataframe tbody tr th {\n",
       "        vertical-align: top;\n",
       "    }\n",
       "\n",
       "    .dataframe thead th {\n",
       "        text-align: right;\n",
       "    }\n",
       "</style>\n",
       "<table border=\"1\" class=\"dataframe\">\n",
       "  <thead>\n",
       "    <tr style=\"text-align: right;\">\n",
       "      <th></th>\n",
       "      <th>HowTo</th>\n",
       "      <th>Most Prevalent Topic</th>\n",
       "      <th>Top Words</th>\n",
       "      <th>Most Prevalent Topic NMF</th>\n",
       "      <th>Top Words NMF</th>\n",
       "      <th>Most Prevalent Topic LSA</th>\n",
       "    </tr>\n",
       "  </thead>\n",
       "  <tbody>\n",
       "    <tr>\n",
       "      <th>1</th>\n",
       "      <td>Massage It’s a 10 Miracle Coily Hydrating Sham...</td>\n",
       "      <td>4</td>\n",
       "      <td>dry, damp, blow, hair, blow dry, damp hair, st...</td>\n",
       "      <td>25</td>\n",
       "      <td>product, contact, eyes, immediately, rinse, ke...</td>\n",
       "      <td>0</td>\n",
       "    </tr>\n",
       "    <tr>\n",
       "      <th>2</th>\n",
       "      <td>• For best results use at least twice a week o...</td>\n",
       "      <td>22</td>\n",
       "      <td>wet hair, wet, lather, rinse, follow, conditio...</td>\n",
       "      <td>14</td>\n",
       "      <td>wet, rinse, wet hair, lather, conditioner, mas...</td>\n",
       "      <td>0</td>\n",
       "    </tr>\n",
       "    <tr>\n",
       "      <th>3</th>\n",
       "      <td>1. After treating with Smoothing Mousse or Dam...</td>\n",
       "      <td>26</td>\n",
       "      <td>hair, dry, sections, brush, using, hair sectio...</td>\n",
       "      <td>0</td>\n",
       "      <td>hair, product, dry hair, gently, natural, root...</td>\n",
       "      <td>0</td>\n",
       "    </tr>\n",
       "    <tr>\n",
       "      <th>4</th>\n",
       "      <td>Apply a generous amount to damp, freshly clean...</td>\n",
       "      <td>19</td>\n",
       "      <td>leave, minutes, leave minutes, minutes rinse, ...</td>\n",
       "      <td>19</td>\n",
       "      <td>minutes, leave, rinse, minutes rinse, leave mi...</td>\n",
       "      <td>0</td>\n",
       "    </tr>\n",
       "    <tr>\n",
       "      <th>5</th>\n",
       "      <td>Cleanse the hair with INtech Pre-treatment Sha...</td>\n",
       "      <td>26</td>\n",
       "      <td>hair, dry, sections, brush, using, hair sectio...</td>\n",
       "      <td>0</td>\n",
       "      <td>hair, product, dry hair, gently, natural, root...</td>\n",
       "      <td>0</td>\n",
       "    </tr>\n",
       "  </tbody>\n",
       "</table>\n",
       "</div>"
      ],
      "text/plain": [
       "                                               HowTo  Most Prevalent Topic  \\\n",
       "1  Massage It’s a 10 Miracle Coily Hydrating Sham...                     4   \n",
       "2  • For best results use at least twice a week o...                    22   \n",
       "3  1. After treating with Smoothing Mousse or Dam...                    26   \n",
       "4  Apply a generous amount to damp, freshly clean...                    19   \n",
       "5  Cleanse the hair with INtech Pre-treatment Sha...                    26   \n",
       "\n",
       "                                           Top Words  \\\n",
       "1  dry, damp, blow, hair, blow dry, damp hair, st...   \n",
       "2  wet hair, wet, lather, rinse, follow, conditio...   \n",
       "3  hair, dry, sections, brush, using, hair sectio...   \n",
       "4  leave, minutes, leave minutes, minutes rinse, ...   \n",
       "5  hair, dry, sections, brush, using, hair sectio...   \n",
       "\n",
       "   Most Prevalent Topic NMF  \\\n",
       "1                        25   \n",
       "2                        14   \n",
       "3                         0   \n",
       "4                        19   \n",
       "5                         0   \n",
       "\n",
       "                                       Top Words NMF  Most Prevalent Topic LSA  \n",
       "1  product, contact, eyes, immediately, rinse, ke...                         0  \n",
       "2  wet, rinse, wet hair, lather, conditioner, mas...                         0  \n",
       "3  hair, product, dry hair, gently, natural, root...                         0  \n",
       "4  minutes, leave, rinse, minutes rinse, leave mi...                         0  \n",
       "5  hair, product, dry hair, gently, natural, root...                         0  "
      ]
     },
     "execution_count": 34,
     "metadata": {},
     "output_type": "execute_result"
    }
   ],
   "source": [
    "df['Most Prevalent Topic LSA'] = most_prevalent_topic(doc_topics_lsa)\n",
    "df.head()"
   ]
  },
  {
   "cell_type": "markdown",
   "id": "f8a4f737",
   "metadata": {},
   "source": [
    "### LSA Tuning"
   ]
  },
  {
   "cell_type": "code",
   "execution_count": 35,
   "id": "bcca4293",
   "metadata": {},
   "outputs": [
    {
     "name": "stdout",
     "output_type": "stream",
     "text": [
      "Fitting 30 topics\n",
      "Fitting 40 topics\n",
      "Fitting 50 topics\n",
      "Fitting 60 topics\n",
      "Fitting 70 topics\n",
      "Fitting 80 topics\n",
      "Fitting 90 topics\n",
      "Fitting 100 topics\n",
      "Fitting 110 topics\n",
      "Fitting 120 topics\n",
      "Fitting 130 topics\n",
      "Fitting 140 topics\n",
      "Fitting 150 topics\n"
     ]
    },
    {
     "data": {
      "text/html": [
       "<div>\n",
       "<style scoped>\n",
       "    .dataframe tbody tr th:only-of-type {\n",
       "        vertical-align: middle;\n",
       "    }\n",
       "\n",
       "    .dataframe tbody tr th {\n",
       "        vertical-align: top;\n",
       "    }\n",
       "\n",
       "    .dataframe thead th {\n",
       "        text-align: right;\n",
       "    }\n",
       "</style>\n",
       "<table border=\"1\" class=\"dataframe\">\n",
       "  <thead>\n",
       "    <tr style=\"text-align: right;\">\n",
       "      <th></th>\n",
       "      <th>topics</th>\n",
       "      <th>mean_umass</th>\n",
       "    </tr>\n",
       "  </thead>\n",
       "  <tbody>\n",
       "    <tr>\n",
       "      <th>0</th>\n",
       "      <td>30</td>\n",
       "      <td>-1.983252</td>\n",
       "    </tr>\n",
       "    <tr>\n",
       "      <th>1</th>\n",
       "      <td>40</td>\n",
       "      <td>-2.279817</td>\n",
       "    </tr>\n",
       "    <tr>\n",
       "      <th>2</th>\n",
       "      <td>50</td>\n",
       "      <td>-2.377197</td>\n",
       "    </tr>\n",
       "    <tr>\n",
       "      <th>3</th>\n",
       "      <td>60</td>\n",
       "      <td>-2.612570</td>\n",
       "    </tr>\n",
       "    <tr>\n",
       "      <th>4</th>\n",
       "      <td>70</td>\n",
       "      <td>-2.977392</td>\n",
       "    </tr>\n",
       "    <tr>\n",
       "      <th>5</th>\n",
       "      <td>80</td>\n",
       "      <td>-2.883270</td>\n",
       "    </tr>\n",
       "    <tr>\n",
       "      <th>6</th>\n",
       "      <td>90</td>\n",
       "      <td>-3.060759</td>\n",
       "    </tr>\n",
       "    <tr>\n",
       "      <th>7</th>\n",
       "      <td>100</td>\n",
       "      <td>-3.168460</td>\n",
       "    </tr>\n",
       "    <tr>\n",
       "      <th>8</th>\n",
       "      <td>110</td>\n",
       "      <td>-3.397249</td>\n",
       "    </tr>\n",
       "    <tr>\n",
       "      <th>9</th>\n",
       "      <td>120</td>\n",
       "      <td>-3.479340</td>\n",
       "    </tr>\n",
       "    <tr>\n",
       "      <th>10</th>\n",
       "      <td>130</td>\n",
       "      <td>-3.609185</td>\n",
       "    </tr>\n",
       "    <tr>\n",
       "      <th>11</th>\n",
       "      <td>140</td>\n",
       "      <td>-3.852499</td>\n",
       "    </tr>\n",
       "    <tr>\n",
       "      <th>12</th>\n",
       "      <td>150</td>\n",
       "      <td>-3.902148</td>\n",
       "    </tr>\n",
       "  </tbody>\n",
       "</table>\n",
       "</div>"
      ],
      "text/plain": [
       "    topics  mean_umass\n",
       "0       30   -1.983252\n",
       "1       40   -2.279817\n",
       "2       50   -2.377197\n",
       "3       60   -2.612570\n",
       "4       70   -2.977392\n",
       "5       80   -2.883270\n",
       "6       90   -3.060759\n",
       "7      100   -3.168460\n",
       "8      110   -3.397249\n",
       "9      120   -3.479340\n",
       "10     130   -3.609185\n",
       "11     140   -3.852499\n",
       "12     150   -3.902148"
      ]
     },
     "execution_count": 35,
     "metadata": {},
     "output_type": "execute_result"
    }
   ],
   "source": [
    "records = []\n",
    "for top in range(30,151,10):\n",
    "    print(f\"Fitting {top} topics\")\n",
    "    record = {'topics': top}\n",
    "    lsa = TruncatedSVD(n_components=top)\n",
    "    \n",
    "    lsa.fit(dtm)\n",
    "    \n",
    "    #record['perplexity'] = lda.perplexity(dtm)\n",
    "    umass = metric_coherence_gensim(measure= \"u_mass\",\n",
    "                                    top_n=5,\n",
    "                                    topic_word_distrib= lsa.components_,\n",
    "                                    dtm= dtm.todense(),\n",
    "                                    vocab= vocab,\n",
    "                                    texts= None                                    \n",
    "                                    )\n",
    "    record['mean_umass'] = np.mean(umass)\n",
    "    records.append(record)\n",
    "    \n",
    "diagnostics = pd.DataFrame(records)\n",
    "diagnostics"
   ]
  },
  {
   "cell_type": "markdown",
   "id": "051951b1",
   "metadata": {},
   "source": [
    "### Plot performance metrics"
   ]
  },
  {
   "cell_type": "code",
   "execution_count": 36,
   "id": "5803499c",
   "metadata": {},
   "outputs": [
    {
     "data": {
      "text/plain": [
       "[<matplotlib.lines.Line2D at 0x2cf9f6116d0>]"
      ]
     },
     "execution_count": 36,
     "metadata": {},
     "output_type": "execute_result"
    },
    {
     "data": {
      "image/png": "[encoded data removed]",
      "text/plain": [
       "<Figure size 640x480 with 2 Axes>"
      ]
     },
     "metadata": {},
     "output_type": "display_data"
    }
   ],
   "source": [
    "### Plot performance metrics\n",
    "fig, ax = plt.subplots()\n",
    "ax2 = ax.twinx()\n",
    "ax2.plot(diagnostics['topics'], diagnostics['mean_umass'], color = 'red', linestyle='--')"
   ]
  },
  {
   "cell_type": "code",
   "execution_count": 37,
   "id": "127d6d93",
   "metadata": {},
   "outputs": [
    {
     "data": {
      "text/html": [
       "<div>\n",
       "<style scoped>\n",
       "    .dataframe tbody tr th:only-of-type {\n",
       "        vertical-align: middle;\n",
       "    }\n",
       "\n",
       "    .dataframe tbody tr th {\n",
       "        vertical-align: top;\n",
       "    }\n",
       "\n",
       "    .dataframe thead th {\n",
       "        text-align: right;\n",
       "    }\n",
       "</style>\n",
       "<table border=\"1\" class=\"dataframe\">\n",
       "  <thead>\n",
       "    <tr style=\"text-align: right;\">\n",
       "      <th></th>\n",
       "      <th>HowTo</th>\n",
       "      <th>Most Prevalent Topic</th>\n",
       "      <th>Top Words</th>\n",
       "      <th>Most Prevalent Topic NMF</th>\n",
       "      <th>Top Words NMF</th>\n",
       "      <th>Most Prevalent Topic LSA</th>\n",
       "      <th>Top Words LSA</th>\n",
       "    </tr>\n",
       "  </thead>\n",
       "  <tbody>\n",
       "    <tr>\n",
       "      <th>1</th>\n",
       "      <td>Massage It’s a 10 Miracle Coily Hydrating Sham...</td>\n",
       "      <td>4</td>\n",
       "      <td>dry, damp, blow, hair, blow dry, damp hair, st...</td>\n",
       "      <td>25</td>\n",
       "      <td>product, contact, eyes, immediately, rinse, ke...</td>\n",
       "      <td>0</td>\n",
       "      <td>hair, apply, rinse, dry, shampoo, use, minutes...</td>\n",
       "    </tr>\n",
       "    <tr>\n",
       "      <th>2</th>\n",
       "      <td>• For best results use at least twice a week o...</td>\n",
       "      <td>22</td>\n",
       "      <td>wet hair, wet, lather, rinse, follow, conditio...</td>\n",
       "      <td>14</td>\n",
       "      <td>wet, rinse, wet hair, lather, conditioner, mas...</td>\n",
       "      <td>0</td>\n",
       "      <td>hair, apply, rinse, dry, shampoo, use, minutes...</td>\n",
       "    </tr>\n",
       "    <tr>\n",
       "      <th>3</th>\n",
       "      <td>1. After treating with Smoothing Mousse or Dam...</td>\n",
       "      <td>26</td>\n",
       "      <td>hair, dry, sections, brush, using, hair sectio...</td>\n",
       "      <td>0</td>\n",
       "      <td>hair, product, dry hair, gently, natural, root...</td>\n",
       "      <td>0</td>\n",
       "      <td>hair, apply, rinse, dry, shampoo, use, minutes...</td>\n",
       "    </tr>\n",
       "    <tr>\n",
       "      <th>4</th>\n",
       "      <td>Apply a generous amount to damp, freshly clean...</td>\n",
       "      <td>19</td>\n",
       "      <td>leave, minutes, leave minutes, minutes rinse, ...</td>\n",
       "      <td>19</td>\n",
       "      <td>minutes, leave, rinse, minutes rinse, leave mi...</td>\n",
       "      <td>0</td>\n",
       "      <td>hair, apply, rinse, dry, shampoo, use, minutes...</td>\n",
       "    </tr>\n",
       "    <tr>\n",
       "      <th>5</th>\n",
       "      <td>Cleanse the hair with INtech Pre-treatment Sha...</td>\n",
       "      <td>26</td>\n",
       "      <td>hair, dry, sections, brush, using, hair sectio...</td>\n",
       "      <td>0</td>\n",
       "      <td>hair, product, dry hair, gently, natural, root...</td>\n",
       "      <td>0</td>\n",
       "      <td>hair, apply, rinse, dry, shampoo, use, minutes...</td>\n",
       "    </tr>\n",
       "  </tbody>\n",
       "</table>\n",
       "</div>"
      ],
      "text/plain": [
       "                                               HowTo  Most Prevalent Topic  \\\n",
       "1  Massage It’s a 10 Miracle Coily Hydrating Sham...                     4   \n",
       "2  • For best results use at least twice a week o...                    22   \n",
       "3  1. After treating with Smoothing Mousse or Dam...                    26   \n",
       "4  Apply a generous amount to damp, freshly clean...                    19   \n",
       "5  Cleanse the hair with INtech Pre-treatment Sha...                    26   \n",
       "\n",
       "                                           Top Words  \\\n",
       "1  dry, damp, blow, hair, blow dry, damp hair, st...   \n",
       "2  wet hair, wet, lather, rinse, follow, conditio...   \n",
       "3  hair, dry, sections, brush, using, hair sectio...   \n",
       "4  leave, minutes, leave minutes, minutes rinse, ...   \n",
       "5  hair, dry, sections, brush, using, hair sectio...   \n",
       "\n",
       "   Most Prevalent Topic NMF  \\\n",
       "1                        25   \n",
       "2                        14   \n",
       "3                         0   \n",
       "4                        19   \n",
       "5                         0   \n",
       "\n",
       "                                       Top Words NMF  \\\n",
       "1  product, contact, eyes, immediately, rinse, ke...   \n",
       "2  wet, rinse, wet hair, lather, conditioner, mas...   \n",
       "3  hair, product, dry hair, gently, natural, root...   \n",
       "4  minutes, leave, rinse, minutes rinse, leave mi...   \n",
       "5  hair, product, dry hair, gently, natural, root...   \n",
       "\n",
       "   Most Prevalent Topic LSA                                      Top Words LSA  \n",
       "1                         0  hair, apply, rinse, dry, shampoo, use, minutes...  \n",
       "2                         0  hair, apply, rinse, dry, shampoo, use, minutes...  \n",
       "3                         0  hair, apply, rinse, dry, shampoo, use, minutes...  \n",
       "4                         0  hair, apply, rinse, dry, shampoo, use, minutes...  \n",
       "5                         0  hair, apply, rinse, dry, shampoo, use, minutes...  "
      ]
     },
     "execution_count": 37,
     "metadata": {},
     "output_type": "execute_result"
    }
   ],
   "source": [
    "# Add top words for the most prevalent topic to DataFrame\n",
    "df['Top Words LSA'] = df['Most Prevalent Topic LSA'].apply(lambda topic_idx: ', '.join(topic_words_dist_ranked(topic_idx, dt3_h, vocab)))\n",
    "df.head()"
   ]
  },
  {
   "cell_type": "markdown",
   "id": "92cbfcfd",
   "metadata": {},
   "source": [
    "I did noticed that due to the vectorizer type the LSA values chanages, this might be due to the ties in BOW apporach. "
   ]
  },
  {
   "cell_type": "markdown",
   "id": "e5e8b1e1",
   "metadata": {},
   "source": [
    "# 7. Conclusion"
   ]
  },
  {
   "cell_type": "markdown",
   "id": "48a2fd74",
   "metadata": {},
   "source": [
    "Based on the model the results of topics and words are different. This is not surprising as these methods are using different approaches under the hood.\n",
    "\n",
    "Overall, I would prefer to go with the LDA method as is has been a well stablished methodn on this field.\n",
    "\n",
    "From the results, I would use this to find related products that might fall well together based on their text description."
   ]
  }
 ],
 "metadata": {
  "kernelspec": {
   "display_name": "Python 3",
   "language": "python",
   "name": "python3"
  },
  "language_info": {
   "codemirror_mode": {
    "name": "ipython",
    "version": 3
   },
   "file_extension": ".py",
   "mimetype": "text/x-python",
   "name": "python",
   "nbconvert_exporter": "python",
   "pygments_lexer": "ipython3",
   "version": "3.12.2"
  }
 },
 "nbformat": 4,
 "nbformat_minor": 5
}
